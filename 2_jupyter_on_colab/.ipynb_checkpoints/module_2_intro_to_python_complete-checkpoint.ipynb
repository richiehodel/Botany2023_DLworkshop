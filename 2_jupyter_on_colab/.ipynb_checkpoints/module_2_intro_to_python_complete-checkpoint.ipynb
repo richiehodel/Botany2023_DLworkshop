{
 "cells": [
  {
   "cell_type": "markdown",
   "metadata": {
    "id": "MvyiWuS1ocIU"
   },
   "source": [
    "## Running code cells"
   ]
  },
  {
   "cell_type": "markdown",
   "metadata": {
    "id": "E3_6FvnEocIZ"
   },
   "source": [
    "Once you get into a Colab notebook you can start writing in code cells. \n",
    "What you are reading now is in a markdown cell which allows you to add information to your code."
   ]
  },
  {
   "cell_type": "code",
   "execution_count": 4,
   "metadata": {
    "ExecuteTime": {
     "end_time": "2021-07-17T16:28:41.666753Z",
     "start_time": "2021-07-17T16:28:41.655703Z"
    },
    "colab": {
     "base_uri": "https://localhost:8080/"
    },
    "id": "lKA8-y94ocIa",
    "outputId": "8dd8b32c-bb28-48bc-bb37-9a9bdea28e92"
   },
   "outputs": [
    {
     "data": {
      "text/plain": [
       "4"
      ]
     },
     "execution_count": 4,
     "metadata": {},
     "output_type": "execute_result"
    }
   ],
   "source": [
    "2 + 2"
   ]
  },
  {
   "cell_type": "code",
   "execution_count": 5,
   "metadata": {
    "ExecuteTime": {
     "end_time": "2021-07-17T16:28:41.673389Z",
     "start_time": "2021-07-17T16:28:41.669424Z"
    },
    "colab": {
     "base_uri": "https://localhost:8080/"
    },
    "id": "SA2rNek_ocIc",
    "outputId": "9fc0fac7-8536-4086-c3e2-193187269f1a"
   },
   "outputs": [
    {
     "data": {
      "text/plain": [
       "4"
      ]
     },
     "execution_count": 5,
     "metadata": {},
     "output_type": "execute_result"
    }
   ],
   "source": [
    "# This is a comment\n",
    "# Code cells can contain multiple lines of code \n",
    "2 * 2"
   ]
  },
  {
   "cell_type": "markdown",
   "metadata": {
    "id": "0DEeURqLocId"
   },
   "source": [
    "## Variables and Data Types"
   ]
  },
  {
   "cell_type": "markdown",
   "metadata": {
    "id": "Le4OVaJNocIe"
   },
   "source": [
    "One of the most basic things we can do in Python is assign values to **variables**:"
   ]
  },
  {
   "cell_type": "code",
   "execution_count": 8,
   "metadata": {
    "ExecuteTime": {
     "end_time": "2021-07-17T16:28:41.679774Z",
     "start_time": "2021-07-17T16:28:41.676529Z"
    },
    "id": "Vxb_euVmocIe"
   },
   "outputs": [],
   "source": [
    "text = 'Botany 2023'  # An example of a string\n",
    "number = 42  # An example of an integer\n",
    "pi_value = 3.1415  # An example of a float"
   ]
  },
  {
   "cell_type": "markdown",
   "metadata": {
    "id": "5KTuIyuDocIf"
   },
   "source": [
    "Here we’ve assigned data to the variables *text*, *number* and *pi_value*, using the assignment operator =. \n",
    "To review the value of a variable, we can type the name of the variable into the interpreter and press *Shift* *Return*:"
   ]
  },
  {
   "cell_type": "code",
   "execution_count": 9,
   "metadata": {
    "ExecuteTime": {
     "end_time": "2021-07-17T16:28:41.693145Z",
     "start_time": "2021-07-17T16:28:41.682996Z"
    },
    "colab": {
     "base_uri": "https://localhost:8080/",
     "height": 35
    },
    "id": "ZSz3HRPJocIg",
    "outputId": "08c935c7-df49-4b61-99b2-8b6a8d3f3b64"
   },
   "outputs": [
    {
     "data": {
      "text/plain": [
       "'Botany 2023'"
      ]
     },
     "execution_count": 9,
     "metadata": {},
     "output_type": "execute_result"
    }
   ],
   "source": [
    "text"
   ]
  },
  {
   "cell_type": "markdown",
   "metadata": {
    "id": "6ere3PNxFJYf"
   },
   "source": [
    "Python only displays the object that appears in the last line of the code."
   ]
  },
  {
   "cell_type": "code",
   "execution_count": 10,
   "metadata": {
    "colab": {
     "base_uri": "https://localhost:8080/"
    },
    "id": "Y4WRvPxeFHAs",
    "outputId": "faa62251-44b2-4ad9-f554-a97104299372"
   },
   "outputs": [
    {
     "data": {
      "text/plain": [
       "42"
      ]
     },
     "execution_count": 10,
     "metadata": {},
     "output_type": "execute_result"
    }
   ],
   "source": [
    "text \n",
    "number"
   ]
  },
  {
   "cell_type": "markdown",
   "metadata": {
    "id": "2RkSKOQqFd_p"
   },
   "source": [
    "You have to tell python if you want to display multiple objects from your code."
   ]
  },
  {
   "cell_type": "code",
   "execution_count": 11,
   "metadata": {
    "colab": {
     "base_uri": "https://localhost:8080/"
    },
    "id": "5SKG1QepFUWV",
    "outputId": "5cea9e35-59df-422b-8c79-cffccb374c0c"
   },
   "outputs": [
    {
     "name": "stdout",
     "output_type": "stream",
     "text": [
      "Botany 2023\n",
      "42\n"
     ]
    }
   ],
   "source": [
    "print(text)\n",
    "print(number)"
   ]
  },
  {
   "cell_type": "markdown",
   "metadata": {
    "id": "l1z77oE1ocIh"
   },
   "source": [
    "Everything in Python has a type. To get the type of something, we can pass it to the built-in **function** type:"
   ]
  },
  {
   "cell_type": "code",
   "execution_count": 12,
   "metadata": {
    "ExecuteTime": {
     "end_time": "2021-07-17T16:28:41.702379Z",
     "start_time": "2021-07-17T16:28:41.696578Z"
    },
    "colab": {
     "base_uri": "https://localhost:8080/"
    },
    "id": "D_ucWb19ocIi",
    "outputId": "4985c727-e9f5-4fc4-f325-b686539266c1"
   },
   "outputs": [
    {
     "data": {
      "text/plain": [
       "str"
      ]
     },
     "execution_count": 12,
     "metadata": {},
     "output_type": "execute_result"
    }
   ],
   "source": [
    "type(text)"
   ]
  },
  {
   "cell_type": "code",
   "execution_count": 13,
   "metadata": {
    "ExecuteTime": {
     "end_time": "2021-07-17T16:28:41.711255Z",
     "start_time": "2021-07-17T16:28:41.705546Z"
    },
    "colab": {
     "base_uri": "https://localhost:8080/"
    },
    "id": "NR8lFqhYocIj",
    "outputId": "5825cfe2-abe7-45e8-dda2-b2e4db01b3e9"
   },
   "outputs": [
    {
     "data": {
      "text/plain": [
       "int"
      ]
     },
     "execution_count": 13,
     "metadata": {},
     "output_type": "execute_result"
    }
   ],
   "source": [
    "type(number)"
   ]
  },
  {
   "cell_type": "code",
   "execution_count": 28,
   "metadata": {
    "ExecuteTime": {
     "end_time": "2021-07-17T16:28:41.719762Z",
     "start_time": "2021-07-17T16:28:41.714454Z"
    },
    "colab": {
     "base_uri": "https://localhost:8080/"
    },
    "id": "FKbwg_jFocIj",
    "outputId": "6f588829-8f23-428f-ef16-de74f13a519b"
   },
   "outputs": [
    {
     "data": {
      "text/plain": [
       "float"
      ]
     },
     "execution_count": 28,
     "metadata": {},
     "output_type": "execute_result"
    }
   ],
   "source": [
    "type(pi_value)"
   ]
  },
  {
   "cell_type": "markdown",
   "metadata": {
    "id": "2TX5PR6vLUL-"
   },
   "source": [
    "Notice that a string (str) is what python calls text. A string always needs to be enclosed in double or single quotation marks. "
   ]
  },
  {
   "cell_type": "code",
   "execution_count": 29,
   "metadata": {
    "colab": {
     "base_uri": "https://localhost:8080/",
     "height": 131
    },
    "id": "cTQrA-rKLR5E",
    "outputId": "740cd1f5-13b9-446d-ea07-110e13ae4ebc"
   },
   "outputs": [
    {
     "ename": "SyntaxError",
     "evalue": "invalid syntax (3047262121.py, line 1)",
     "output_type": "error",
     "traceback": [
      "\u001b[0;36m  Cell \u001b[0;32mIn[29], line 1\u001b[0;36m\u001b[0m\n\u001b[0;31m    error = Botany 2023\u001b[0m\n\u001b[0m                   ^\u001b[0m\n\u001b[0;31mSyntaxError\u001b[0m\u001b[0;31m:\u001b[0m invalid syntax\n"
     ]
    }
   ],
   "source": [
    "error = Botany 2023"
   ]
  },
  {
   "cell_type": "markdown",
   "metadata": {
    "id": "92hw5-AuocIk"
   },
   "source": [
    "We can also use comparison and logic operators: <, >, ==, !=, <=, >=. The data type returned by this is called a **boolean**.\n",
    "Notice that we use == as an operator and = to assign a variable.\n"
   ]
  },
  {
   "cell_type": "code",
   "execution_count": 30,
   "metadata": {
    "ExecuteTime": {
     "end_time": "2021-07-17T16:28:41.730475Z",
     "start_time": "2021-07-17T16:28:41.724186Z"
    },
    "colab": {
     "base_uri": "https://localhost:8080/"
    },
    "id": "H_VZrOs3ocIk",
    "outputId": "79a3916a-55cd-4b21-9a76-33cc89e5bfd3"
   },
   "outputs": [
    {
     "data": {
      "text/plain": [
       "False"
      ]
     },
     "execution_count": 30,
     "metadata": {},
     "output_type": "execute_result"
    }
   ],
   "source": [
    "3 > 4"
   ]
  },
  {
   "cell_type": "code",
   "execution_count": 17,
   "metadata": {
    "ExecuteTime": {
     "end_time": "2021-07-17T16:28:41.741027Z",
     "start_time": "2021-07-17T16:28:41.733971Z"
    },
    "colab": {
     "base_uri": "https://localhost:8080/"
    },
    "id": "amcs-MOJocIl",
    "outputId": "1fbbe05d-cc8d-40ca-81d9-0833663f1ea2"
   },
   "outputs": [
    {
     "data": {
      "text/plain": [
       "False"
      ]
     },
     "execution_count": 17,
     "metadata": {},
     "output_type": "execute_result"
    }
   ],
   "source": [
    "result = pi_value > number\n",
    "result"
   ]
  },
  {
   "cell_type": "code",
   "execution_count": 18,
   "metadata": {
    "colab": {
     "base_uri": "https://localhost:8080/"
    },
    "id": "CmknA1UdEXdM",
    "outputId": "096f812a-5d1f-44c6-a781-c38a11a83198"
   },
   "outputs": [
    {
     "data": {
      "text/plain": [
       "bool"
      ]
     },
     "execution_count": 18,
     "metadata": {},
     "output_type": "execute_result"
    }
   ],
   "source": [
    "type(result)"
   ]
  },
  {
   "cell_type": "markdown",
   "metadata": {
    "id": "ZmW8nwPDocIl"
   },
   "source": [
    "### Collections: Lists and Dictionaries"
   ]
  },
  {
   "cell_type": "markdown",
   "metadata": {
    "id": "rn3l9q2uocIl"
   },
   "source": [
    "A **list** is a common data structure to hold an ordered sequence of elements. Each element can be accessed by an index. Note that Python indexes start with 0 instead of 1:"
   ]
  },
  {
   "cell_type": "code",
   "execution_count": 20,
   "metadata": {
    "ExecuteTime": {
     "end_time": "2021-07-17T16:44:26.562359Z",
     "start_time": "2021-07-17T16:44:26.557943Z"
    },
    "id": "svpM8rofocIm",
    "outputId": "d3cace74-a8eb-4278-d58c-2e6156f539c5"
   },
   "outputs": [
    {
     "data": {
      "text/plain": [
       "1"
      ]
     },
     "execution_count": 20,
     "metadata": {},
     "output_type": "execute_result"
    }
   ],
   "source": [
    "numbers = [1, 2, 3]\n",
    "numbers[0]"
   ]
  },
  {
   "cell_type": "markdown",
   "metadata": {
    "id": "YuwWFNMUocIm"
   },
   "source": [
    "To add elements to the end of a list, we can use the append **method**. Methods are a way to interact with an object (a list, for example). We can invoke a method using the dot . followed by the method name and a list of arguments in parentheses. Let’s look at an example using append:"
   ]
  },
  {
   "cell_type": "code",
   "execution_count": 21,
   "metadata": {
    "ExecuteTime": {
     "end_time": "2021-07-17T16:55:36.189115Z",
     "start_time": "2021-07-17T16:55:36.184366Z"
    },
    "id": "9sVCBvH2ocIm",
    "outputId": "91a60853-4b38-4cb7-d5b0-c73734820f02"
   },
   "outputs": [
    {
     "name": "stdout",
     "output_type": "stream",
     "text": [
      "[1, 2, 3, 4]\n"
     ]
    }
   ],
   "source": [
    "numbers.append(4)\n",
    "print(numbers)"
   ]
  },
  {
   "cell_type": "markdown",
   "metadata": {
    "id": "aJ2l56ddocIn"
   },
   "source": [
    "A **dictionary** is a container that holds pairs of objects - **keys** and **values.**"
   ]
  },
  {
   "cell_type": "code",
   "execution_count": 22,
   "metadata": {
    "ExecuteTime": {
     "end_time": "2021-07-17T17:10:21.572386Z",
     "start_time": "2021-07-17T17:10:21.568562Z"
    },
    "id": "uXc6k2YGocIn",
    "outputId": "9684995a-759b-4fe9-e505-cb5ee51961bd"
   },
   "outputs": [
    {
     "data": {
      "text/plain": [
       "'apricot'"
      ]
     },
     "execution_count": 22,
     "metadata": {},
     "output_type": "execute_result"
    }
   ],
   "source": [
    "prunus_common = {'cerasus': 'sour cherry', 'armeniaca': 'apricot'}\n",
    "prunus_common['armeniaca']"
   ]
  },
  {
   "cell_type": "markdown",
   "metadata": {
    "id": "SJWjh6_RocIn"
   },
   "source": [
    "Dictionaries work a lot like lists. Where lists were given indexes starting at 0 by Python, in dictionaries you index them with keys. You can think about a key as a name or unique identifier for the value it corresponds to.\n",
    "\n",
    "To add an item to the dictionary we assign a value to a new key:"
   ]
  },
  {
   "cell_type": "code",
   "execution_count": 23,
   "metadata": {
    "ExecuteTime": {
     "end_time": "2021-07-17T17:11:06.484681Z",
     "start_time": "2021-07-17T17:11:06.481038Z"
    },
    "id": "H4z-FXm0ocIn",
    "outputId": "f36a8aa1-9ed0-4cb3-c72b-ef7226c74eec"
   },
   "outputs": [
    {
     "name": "stdout",
     "output_type": "stream",
     "text": [
      "{'cerasus': 'sour cherry', 'armeniaca': 'apricot', 'dulcis': 'almond'}\n"
     ]
    }
   ],
   "source": [
    "prunus_common['dulcis'] = 'almond'\n",
    "print(prunus_common)"
   ]
  },
  {
   "cell_type": "markdown",
   "metadata": {
    "id": "QBIItbdTocIq"
   },
   "source": [
    "## Python packages"
   ]
  },
  {
   "cell_type": "markdown",
   "metadata": {
    "id": "hm5VJmDBocIq"
   },
   "source": [
    "A Python package (or library) is a collection of custom functions and data types for use by other programs.\n",
    "\n",
    "You can import a Python package with the *import* keyword."
   ]
  },
  {
   "cell_type": "markdown",
   "metadata": {
    "id": "A44FOPMoocIq"
   },
   "source": [
    "A very commonly used Python package for working with data is called *pandas*. Let's import pandas to create a custom dataframe."
   ]
  },
  {
   "cell_type": "code",
   "execution_count": 31,
   "metadata": {
    "id": "73DRYLJAocIq"
   },
   "outputs": [],
   "source": [
    "import pandas as pd"
   ]
  },
  {
   "cell_type": "markdown",
   "metadata": {
    "id": "mWWdQWEYocIr"
   },
   "source": [
    "Let's make a list of dictionaries to feed into pandas."
   ]
  },
  {
   "cell_type": "code",
   "execution_count": 32,
   "metadata": {
    "id": "6xPwvXfqocIr"
   },
   "outputs": [],
   "source": [
    "records = [{'voucher_number':123, 'collector':'Sundre', 'scientific_name':'Prunus cerasus'},\n",
    "           {'voucher_number':124, 'collector':'Richie', 'scientific_name':'Prunus armeniaca'}]"
   ]
  },
  {
   "cell_type": "markdown",
   "metadata": {
    "id": "LJmkOM34ptDx"
   },
   "source": [
    "We can then use the dataframe method to turn this dictionary into a dataframe."
   ]
  },
  {
   "cell_type": "code",
   "execution_count": 34,
   "metadata": {
    "id": "WgM5UiJ7ptqN"
   },
   "outputs": [],
   "source": [
    "df = pd.DataFrame(records)"
   ]
  },
  {
   "cell_type": "markdown",
   "metadata": {
    "id": "lNFVAy93qW76"
   },
   "source": [
    "We can use the type function to find out what the df variable is."
   ]
  },
  {
   "cell_type": "code",
   "execution_count": 35,
   "metadata": {
    "colab": {
     "base_uri": "https://localhost:8080/"
    },
    "id": "0nXMu7SxocIr",
    "outputId": "44c944be-0d54-4601-fb97-e49ce9ee7def"
   },
   "outputs": [
    {
     "data": {
      "text/plain": [
       "pandas.core.frame.DataFrame"
      ]
     },
     "execution_count": 35,
     "metadata": {},
     "output_type": "execute_result"
    }
   ],
   "source": [
    "type(df)"
   ]
  },
  {
   "cell_type": "markdown",
   "metadata": {
    "id": "TvlxnGUKqa1D"
   },
   "source": [
    "Python will return the first 5 and last 5 rows of a dataframe. Here we only have 2."
   ]
  },
  {
   "cell_type": "code",
   "execution_count": 36,
   "metadata": {
    "colab": {
     "base_uri": "https://localhost:8080/",
     "height": 112
    },
    "id": "OxB4kUd8ocIr",
    "outputId": "25f7b2d6-36d0-4d8c-ec0b-58bfd86afaa0"
   },
   "outputs": [
    {
     "data": {
      "text/html": [
       "<div>\n",
       "<style scoped>\n",
       "    .dataframe tbody tr th:only-of-type {\n",
       "        vertical-align: middle;\n",
       "    }\n",
       "\n",
       "    .dataframe tbody tr th {\n",
       "        vertical-align: top;\n",
       "    }\n",
       "\n",
       "    .dataframe thead th {\n",
       "        text-align: right;\n",
       "    }\n",
       "</style>\n",
       "<table border=\"1\" class=\"dataframe\">\n",
       "  <thead>\n",
       "    <tr style=\"text-align: right;\">\n",
       "      <th></th>\n",
       "      <th>voucher_number</th>\n",
       "      <th>collector</th>\n",
       "      <th>scientific_name</th>\n",
       "    </tr>\n",
       "  </thead>\n",
       "  <tbody>\n",
       "    <tr>\n",
       "      <th>0</th>\n",
       "      <td>123</td>\n",
       "      <td>Sundre</td>\n",
       "      <td>Prunus cerasus</td>\n",
       "    </tr>\n",
       "    <tr>\n",
       "      <th>1</th>\n",
       "      <td>124</td>\n",
       "      <td>Richie</td>\n",
       "      <td>Prunus armeniaca</td>\n",
       "    </tr>\n",
       "  </tbody>\n",
       "</table>\n",
       "</div>"
      ],
      "text/plain": [
       "   voucher_number collector   scientific_name\n",
       "0             123    Sundre    Prunus cerasus\n",
       "1             124    Richie  Prunus armeniaca"
      ]
     },
     "execution_count": 36,
     "metadata": {},
     "output_type": "execute_result"
    }
   ],
   "source": [
    "df"
   ]
  },
  {
   "cell_type": "markdown",
   "metadata": {
    "id": "84yuOH7gqocF"
   },
   "source": [
    "We can also use the info method to find out more about our dataframe. "
   ]
  },
  {
   "cell_type": "code",
   "execution_count": 37,
   "metadata": {
    "colab": {
     "base_uri": "https://localhost:8080/"
    },
    "id": "GbtLPxpdocIr",
    "outputId": "716d6076-0f7c-46aa-e263-aefd89904dac"
   },
   "outputs": [
    {
     "name": "stdout",
     "output_type": "stream",
     "text": [
      "<class 'pandas.core.frame.DataFrame'>\n",
      "RangeIndex: 2 entries, 0 to 1\n",
      "Data columns (total 3 columns):\n",
      " #   Column           Non-Null Count  Dtype \n",
      "---  ------           --------------  ----- \n",
      " 0   voucher_number   2 non-null      int64 \n",
      " 1   collector        2 non-null      object\n",
      " 2   scientific_name  2 non-null      object\n",
      "dtypes: int64(1), object(2)\n",
      "memory usage: 176.0+ bytes\n"
     ]
    }
   ],
   "source": [
    "df.info()"
   ]
  },
  {
   "cell_type": "markdown",
   "metadata": {
    "id": "0g-IFkpZrhQD"
   },
   "source": [
    "Once you create a dataframe you may want to save it as a csv. You can do this using the .to_csv method."
   ]
  },
  {
   "cell_type": "code",
   "execution_count": 38,
   "metadata": {
    "id": "hxT77TmLocIs"
   },
   "outputs": [],
   "source": [
    "df.to_csv('specimen_records.csv')"
   ]
  },
  {
   "cell_type": "markdown",
   "metadata": {
    "id": "Yx2TE41qrxFD"
   },
   "source": [
    "You can also reimport a dataframe using the .read_csv method. If you already have a dataframe you're working on, in excel for example, this is a good way to move it into pandas. Notice that the dataframe was saved with Python's row labels.\n"
   ]
  },
  {
   "cell_type": "code",
   "execution_count": 39,
   "metadata": {
    "colab": {
     "base_uri": "https://localhost:8080/",
     "height": 112
    },
    "id": "SYp2BVs1r42F",
    "outputId": "801549e8-c81e-42ae-f9e8-c5ef064ca95c"
   },
   "outputs": [
    {
     "data": {
      "text/html": [
       "<div>\n",
       "<style scoped>\n",
       "    .dataframe tbody tr th:only-of-type {\n",
       "        vertical-align: middle;\n",
       "    }\n",
       "\n",
       "    .dataframe tbody tr th {\n",
       "        vertical-align: top;\n",
       "    }\n",
       "\n",
       "    .dataframe thead th {\n",
       "        text-align: right;\n",
       "    }\n",
       "</style>\n",
       "<table border=\"1\" class=\"dataframe\">\n",
       "  <thead>\n",
       "    <tr style=\"text-align: right;\">\n",
       "      <th></th>\n",
       "      <th>Unnamed: 0</th>\n",
       "      <th>voucher_number</th>\n",
       "      <th>collector</th>\n",
       "      <th>scientific_name</th>\n",
       "    </tr>\n",
       "  </thead>\n",
       "  <tbody>\n",
       "    <tr>\n",
       "      <th>0</th>\n",
       "      <td>0</td>\n",
       "      <td>123</td>\n",
       "      <td>Sundre</td>\n",
       "      <td>Prunus cerasus</td>\n",
       "    </tr>\n",
       "    <tr>\n",
       "      <th>1</th>\n",
       "      <td>1</td>\n",
       "      <td>124</td>\n",
       "      <td>Richie</td>\n",
       "      <td>Prunus armeniaca</td>\n",
       "    </tr>\n",
       "  </tbody>\n",
       "</table>\n",
       "</div>"
      ],
      "text/plain": [
       "   Unnamed: 0  voucher_number collector   scientific_name\n",
       "0           0             123    Sundre    Prunus cerasus\n",
       "1           1             124    Richie  Prunus armeniaca"
      ]
     },
     "execution_count": 39,
     "metadata": {},
     "output_type": "execute_result"
    }
   ],
   "source": [
    "df1 = pd.read_csv('specimen_records.csv')\n",
    "df1"
   ]
  },
  {
   "cell_type": "markdown",
   "metadata": {
    "id": "VSgTvYNWH6JL"
   },
   "source": [
    "To save without the row labels, set index to false."
   ]
  },
  {
   "cell_type": "code",
   "execution_count": 40,
   "metadata": {
    "id": "SJEIXw1gH28P"
   },
   "outputs": [],
   "source": [
    "df.to_csv('specimen_records.csv', index = False)"
   ]
  },
  {
   "cell_type": "code",
   "execution_count": 42,
   "metadata": {
    "colab": {
     "base_uri": "https://localhost:8080/",
     "height": 112
    },
    "id": "748P7isVH55W",
    "outputId": "db90eb38-9aa4-49ac-e9bc-9886ee8d72c2"
   },
   "outputs": [
    {
     "data": {
      "text/html": [
       "<div>\n",
       "<style scoped>\n",
       "    .dataframe tbody tr th:only-of-type {\n",
       "        vertical-align: middle;\n",
       "    }\n",
       "\n",
       "    .dataframe tbody tr th {\n",
       "        vertical-align: top;\n",
       "    }\n",
       "\n",
       "    .dataframe thead th {\n",
       "        text-align: right;\n",
       "    }\n",
       "</style>\n",
       "<table border=\"1\" class=\"dataframe\">\n",
       "  <thead>\n",
       "    <tr style=\"text-align: right;\">\n",
       "      <th></th>\n",
       "      <th>voucher_number</th>\n",
       "      <th>collector</th>\n",
       "      <th>scientific_name</th>\n",
       "    </tr>\n",
       "  </thead>\n",
       "  <tbody>\n",
       "    <tr>\n",
       "      <th>0</th>\n",
       "      <td>123</td>\n",
       "      <td>Sundre</td>\n",
       "      <td>Prunus cerasus</td>\n",
       "    </tr>\n",
       "    <tr>\n",
       "      <th>1</th>\n",
       "      <td>124</td>\n",
       "      <td>Richie</td>\n",
       "      <td>Prunus armeniaca</td>\n",
       "    </tr>\n",
       "  </tbody>\n",
       "</table>\n",
       "</div>"
      ],
      "text/plain": [
       "   voucher_number collector   scientific_name\n",
       "0             123    Sundre    Prunus cerasus\n",
       "1             124    Richie  Prunus armeniaca"
      ]
     },
     "execution_count": 42,
     "metadata": {},
     "output_type": "execute_result"
    }
   ],
   "source": [
    "df2 = pd.read_csv('specimen_records.csv')\n",
    "df2"
   ]
  }
 ],
 "metadata": {
  "colab": {
   "collapsed_sections": [],
   "name": "module_2_intro_to_python_complete.ipynb",
   "provenance": []
  },
  "kernelspec": {
   "display_name": "Python 3 (ipykernel)",
   "language": "python",
   "name": "python3"
  },
  "language_info": {
   "codemirror_mode": {
    "name": "ipython",
    "version": 3
   },
   "file_extension": ".py",
   "mimetype": "text/x-python",
   "name": "python",
   "nbconvert_exporter": "python",
   "pygments_lexer": "ipython3",
   "version": "3.10.10"
  }
 },
 "nbformat": 4,
 "nbformat_minor": 1
}
