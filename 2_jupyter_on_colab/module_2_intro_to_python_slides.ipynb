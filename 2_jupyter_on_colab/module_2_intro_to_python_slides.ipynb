{
 "cells": [
  {
   "cell_type": "code",
   "execution_count": 3,
   "id": "08165d67",
   "metadata": {
    "slideshow": {
     "slide_type": "notes"
    }
   },
   "outputs": [],
   "source": [
    "# Modified from Mike Trizna's slideshow from the 2021 Botany Conference version of this workshop: https://github.com/richiehodel/Botany2021_DLworkshop/"
   ]
  },
  {
   "cell_type": "markdown",
   "id": "5de89bcf",
   "metadata": {
    "slideshow": {
     "slide_type": "slide"
    }
   },
   "source": [
    "# Introduction to Python, Jupyter, and Colab\n",
    "\n",
    "### BOTANY 2023 Boise\n",
    "\n",
    "### July 23, 2023"
   ]
  },
  {
   "cell_type": "markdown",
   "id": "431722dd",
   "metadata": {
    "slideshow": {
     "slide_type": "slide"
    }
   },
   "source": [
    "## What is Python? \t\n",
    "\n",
    "Python is an \n",
    "* interpreted\n",
    "* general-purpose\n",
    "* open source\n",
    "\n",
    "programming language, that has been around since 1991.\n",
    "![YouTube](https://cdn.iconscout.com/icon/free/png-256/free-youtube-86-226404.png?f=webp)"
   ]
  },
  {
   "cell_type": "markdown",
   "id": "93ae0e72",
   "metadata": {
    "slideshow": {
     "slide_type": "slide"
    }
   },
   "source": [
    "![Python growth](https://149351115.v2.pressablecdn.com/wp-content/uploads/2017/09/growth_major_languages-1-1400x1200.png)\n",
    "\n",
    "(*Taken from https://stackoverflow.blog/2017/09/06/incredible-growth-python/*)"
   ]
  },
  {
   "cell_type": "markdown",
   "id": "99a4b1ae",
   "metadata": {
    "slideshow": {
     "slide_type": "slide"
    }
   },
   "source": [
    "![Python growth](https://lh3.googleusercontent.com/hHOai1rDR78m530wxk7FLFgqwuLW1KcI4k0tqlOagysRrm9A3lueWhELJtPTMwd6o4iO02RnRC-MD7TI9faMIq9iUBincKsrBTdaTaLbhefIoU1V3fGNREFojlEG_hB_hkjZk0VGFxPuvp_G3fwcKL4)\n",
    "\n",
    "(*Taken from https://stackoverflow.blog/2023/06/13/developer-survey-results-are-in/*)"
   ]
  },
  {
   "cell_type": "markdown",
   "id": "bf4739ed",
   "metadata": {
    "slideshow": {
     "slide_type": "slide"
    }
   },
   "source": [
    "## Why are we using Python?\n",
    "\n",
    "The two main deep learning libraries are distributed in Python:\n",
    "\n",
    "- TensorFlow (from Google, but also open source)\n",
    "- PyTorch (from Meta/Facebook)\n",
    "\n",
    "(And several interfaces built on top of those, such as FastAI)"
   ]
  },
  {
   "cell_type": "markdown",
   "id": "a94b93d3",
   "metadata": {
    "slideshow": {
     "slide_type": "slide"
    }
   },
   "source": [
    "## What is Jupyter?\n",
    "\n",
    "Originally called iPython Notebooks, Jupyter provides an interactive *literative* programming interface to Python code."
   ]
  },
  {
   "cell_type": "markdown",
   "id": "6d37e926",
   "metadata": {
    "slideshow": {
     "slide_type": "slide"
    }
   },
   "source": [
    "## What is Google Colab?\n",
    "\n",
    "Google Colab (short for \"Colaboratory\") is a free product of Google Research that provides Jupyter notebooks running on Google Cloud hardware."
   ]
  }
 ],
 "metadata": {
  "celltoolbar": "Slideshow",
  "kernelspec": {
   "display_name": "Python 3 (ipykernel)",
   "language": "python",
   "name": "python3"
  },
  "language_info": {
   "codemirror_mode": {
    "name": "ipython",
    "version": 3
   },
   "file_extension": ".py",
   "mimetype": "text/x-python",
   "name": "python",
   "nbconvert_exporter": "python",
   "pygments_lexer": "ipython3",
   "version": "3.10.10"
  },
  "rise": {
   "progress": true,
   "scroll": true,
   "theme": "white"
  }
 },
 "nbformat": 4,
 "nbformat_minor": 5
}
