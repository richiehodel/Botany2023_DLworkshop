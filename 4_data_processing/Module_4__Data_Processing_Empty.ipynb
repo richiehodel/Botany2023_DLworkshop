{
  "cells": [
    {
      "cell_type": "markdown",
      "metadata": {
        "id": "dDwSln959KGo"
      },
      "source": [
        "This module was developed by Stefano Fochesatto (https://stefanofochesatto.github.io/)"
      ]
    },
    {
      "cell_type": "code",
      "execution_count": null,
      "metadata": {
        "id": "yA2EOGtQSMHz"
      },
      "outputs": [],
      "source": [
        "!pip install opencv_python==4.5.4.60"
      ]
    },
    {
      "cell_type": "code",
      "execution_count": null,
      "metadata": {
        "id": "Je61LoKYTVj4"
      },
      "outputs": [],
      "source": [
        "!pip install idigbio"
      ]
    },
    {
      "cell_type": "code",
      "execution_count": null,
      "metadata": {
        "id": "YxxiWLrPTasT"
      },
      "outputs": [],
      "source": [
        "!pip install pandas"
      ]
    },
    {
      "cell_type": "code",
      "execution_count": null,
      "metadata": {
        "id": "t-b1gOeQxEsZ"
      },
      "outputs": [],
      "source": [
        "# Loading OpenCV package\n",
        "import cv2\n",
        "# Load idigbio package\n",
        "import idigbio\n",
        "# Load pandas package\n",
        "import pandas\n",
        "# Load requests package\n",
        "import requests"
      ]
    },
    {
      "cell_type": "code",
      "execution_count": null,
      "metadata": {
        "cellView": "code",
        "id": "VoJg3mRfTBA0"
      },
      "outputs": [],
      "source": [
        "# Specify that we want to return results as a dataframe\n",
        "api = idigbio.pandas()\n",
        "\n",
        "\n",
        "## Function that pull image from IdigBio like the 'image acquisition' module\n",
        "def GetImageFromIdigBio():\n",
        "  # Execute the search with a limit on retrieving only 1 results\n",
        "  mediarecords = api.search_media(rq={'scientificname': 'Magnolia acuminata',\n",
        "                                      'institutioncode':'CHRB',\n",
        "                                    'hasImage': True}, limit = 1)\n",
        "  # Pull UUID values out of the `mediarecords` dataframe and into a list data structure\n",
        "  uuids = mediarecords.index.tolist()\n",
        "\n",
        "  # Set standard URL prefix for files cached on the iDigBio server\n",
        "  append_str = 'https://api.idigbio.org/v2/media/'\n",
        "\n",
        "  # Define a URL suffix to specify we want to download the webview size images.\n",
        "  # These are derivatives that iDigBio creates at 600px width + length adjusted\n",
        "  # proportionally to whatever it needs to be to preserve the correct aspect ratio.\n",
        "  # You can download higher resolution images by changing this string to '?size=fullsize'\n",
        "  suffix_str = '?size=webview'\n",
        "\n",
        "  # Create list of iDigBio media URLs by concatenating the prefix above with the\n",
        "  # UUID values from `mediarecords`\n",
        "  mediaurl_idigbio = [append_str + sub + suffix_str for sub in uuids]\n",
        "\n",
        "  # Create list of external media URLs by pulling values for `accessuri` out of `mediarecords`\n",
        "  mediaurl_external = mediarecords.accessuri.tolist()\n",
        "\n",
        "    # Define what values we are iterating through\n",
        "  image_url = mediaurl_idigbio[0]\n",
        "\n",
        "  # Define a filename based on the UUID of the media record\n",
        "  filename = 'TestImage' + '.jpg'\n",
        "\n",
        "  # Begin the process of downloading a file\n",
        "  r = requests.get(image_url, stream = True)\n",
        "\n",
        "  # Check that the file can be retrieved successfully\n",
        "  if r.status_code == 200:\n",
        "\n",
        "      # Set this otherwise the downloaded image file size will be zero\n",
        "      r.raw.decode_content = True\n",
        "\n",
        "      # Open a local file\n",
        "      with open(filename, 'wb') as file:\n",
        "          for block in r.iter_content(chunk_size = 1024):\n",
        "              if block:\n",
        "                  file.write(block)\n",
        "\n",
        "      # Report back on how things went\n",
        "      print('Image sucessfully Downloaded: ',filename)\n",
        "  else:\n",
        "      print('Image Couldn\\'t be retreived')"
      ]
    },
    {
      "cell_type": "markdown",
      "metadata": {
        "id": "YmwkUvjxXBdn"
      },
      "source": [
        "## OpenCV Basics\n",
        "Now that we have learned to successfully download an image from the IdigBio API, and store it on our local machine, we can get into the basics of how we can manipulate this image for our models.\n",
        "\n",
        "With OpenCV all images are represented as 2d (grayscale images) and 3d (color images) arrays. As with most python libraries like pandas and scipy, numpy arrays and python lists are at the core of the object we are using to store our data.\n",
        "\n",
        "Let's begin with some basic image operations using OpenCV."
      ]
    },
    {
      "cell_type": "code",
      "execution_count": null,
      "metadata": {
        "id": "w5tELTb1ZEA-"
      },
      "outputs": [],
      "source": [
        "import cv2\n",
        "import numpy as np\n",
        "## Special function for displaying image in jupyter notebook\n",
        "from google.colab.patches import cv2_imshow"
      ]
    },
    {
      "cell_type": "code",
      "execution_count": null,
      "metadata": {
        "id": "C5dCkbWWWwbX"
      },
      "outputs": [],
      "source": [
        "## Importing our image with openCV, as a 3d numpy array\n",
        "GetImageFromIdigBio()\n",
        "img = cv2.imread('TestImage.jpg')\n",
        "print(type(img))\n",
        "print(img.shape)\n",
        "cv2_imshow(img)"
      ]
    },
    {
      "cell_type": "markdown",
      "metadata": {
        "id": "Iku4JhAeav7_"
      },
      "source": [
        "## A Quick Note on Color Spaces\n",
        "OpenCV will by default import colored images in the RGB color space. Specifically, images are imported in the BGR format, so\n",
        " - ```img[:,:,0] ``` is the blue channel\n",
        " - ```img[:,:,1] ``` is the green channel\n",
        " - ```img[:,:,2] ``` is the red channel\n",
        "\n",
        "In this color space each pixel is represented by a combination of red, green, blue intensities. This will become more important later on when we discuss thresholding."
      ]
    },
    {
      "cell_type": "code",
      "execution_count": null,
      "metadata": {
        "id": "s2qWHcbgcbuH"
      },
      "outputs": [],
      "source": [
        "## Image cropping can be achieved by using standared python slice notation\n",
        "print(np.shape(img))\n",
        "\n",
        "## Cropping the Color Bar\n",
        "colorBar = img[0:90,0:718,:]\n",
        "\n",
        "## displaying the colorBar crop\n",
        "cv2_imshow(colorBar)"
      ]
    },
    {
      "cell_type": "code",
      "execution_count": null,
      "metadata": {
        "id": "3h0Iz6dddXNK"
      },
      "outputs": [],
      "source": [
        "## Using cv2.rotate to rotate the image\n",
        "# Note that 'cv2.ROTATE_90_CLOCKWISE' can be replaced with single digit flag found in OpenCV documentation\n",
        "# https://docs.opencv.org/3.4/d2/de8/group__core__array.html\n",
        "rotatedcolorBar = cv2.rotate(colorBar, cv2.ROTATE_90_CLOCKWISE)\n",
        "# rotatedcolorBar = cv2.rotate(colorBar, 0)\n",
        "cv2_imshow(rotatedcolorBar)"
      ]
    },
    {
      "cell_type": "code",
      "execution_count": null,
      "metadata": {
        "id": "8WcqwGwqddNU"
      },
      "outputs": [],
      "source": [
        "## Using cv2.resize() to resize the image\n",
        "# Resizing and PRESERVING ASPECT RATIO\n",
        "print((colorBar.shape[0],colorBar.shape[1]))\n",
        "# By Percentage\n",
        "\n",
        "scalePercent = 120\n",
        "dim = (int(colorBar.shape[1]*scalePercent/100),int(colorBar.shape[0]*scalePercent/100))\n",
        "resized = cv2.resize(colorBar, dim, interpolation = cv2.INTER_AREA)\n",
        "cv2_imshow(resized)\n",
        "\n",
        "# By Factor\n",
        "# scaleFactor = 1.2\n",
        "# dim = (int(colorBar.shape[1]*scaleFactor),int(colorBar.shape[0]*scaleFactor))\n",
        "# resized = cv2.resize(colorBar, dim, interpolation = cv2.INTER_AREA)\n",
        "# cv2_imshow(resized)"
      ]
    },
    {
      "cell_type": "code",
      "execution_count": null,
      "metadata": {
        "id": "1r79R0CyJl7g"
      },
      "outputs": [],
      "source": [
        "## Using cv2.resize() to resize the image\n",
        "# Resizing WITHOUT PRESERVING ASPECT RATIO\n",
        "dim = colorBar.shape\n",
        "resized = cv2.resize(colorBar,(dim[1],dim[0]*2), interpolation = cv2.INTER_AREA)\n",
        "cv2_imshow(resized)\n",
        "## Works with any target dimension"
      ]
    },
    {
      "cell_type": "markdown",
      "metadata": {
        "id": "pYOAOOZFxlcl"
      },
      "source": [
        "## Filters, Thresholding, and Building Segmentation Masks\n",
        "In the following example we will generate a segmentation mask for the test image we downloaded before. We will cover how we can apply filters to remove noise in the image, different methods for thresholding, and mask operations."
      ]
    },
    {
      "cell_type": "code",
      "execution_count": null,
      "metadata": {
        "id": "1Wu-wZBgyEKx"
      },
      "outputs": [],
      "source": [
        "cv2_imshow(img)"
      ]
    },
    {
      "cell_type": "code",
      "execution_count": null,
      "metadata": {
        "id": "dVKcOZKEyG93"
      },
      "outputs": [],
      "source": [
        "## Removing the color bar. For batches of sheets from the same institution this can be a valid method for\n",
        "## systematically removing the color bar.\n",
        "img[0:90,0:718,:] = (0,0,0) # assigning color bar slice to black\n",
        "cv2_imshow(img)"
      ]
    },
    {
      "cell_type": "code",
      "execution_count": null,
      "metadata": {
        "id": "XhyUSJjB4ogX"
      },
      "outputs": [],
      "source": [
        "## The plant is greenish against a usually controlled white background,\n",
        "## so an initial color threshold will help us identify where the plant is in the image\n",
        "img_HSV = cv2.cvtColor(img, cv2.COLOR_BGR2HSV)\n",
        "HSV_Threshold = cv2.inRange(img_HSV, (0, 20, 50), (30, 150, 180)) ## HSV Range for approximately the color of the plant\n",
        "cv2_imshow(HSV_Threshold)"
      ]
    },
    {
      "cell_type": "code",
      "execution_count": null,
      "metadata": {
        "id": "4jJrw31t88Nu"
      },
      "outputs": [],
      "source": [
        "## Another method we can apply which works decently well, since the background is very white and\n",
        "## the foreground is a darker green earthy color is binary shareholding\n",
        "img_GRAY = cv2.cvtColor(img, cv2.COLOR_BGR2GRAY)\n",
        "otsu_threshold, GRAY_Threshold = cv2.threshold(img_GRAY, 0, 255, cv2.THRESH_BINARY_INV + cv2.THRESH_OTSU)\n",
        "cv2_imshow(GRAY_Threshold)\n",
        "\n",
        "## Here we seem to accepting the dark pixels that border the Herbarium Sheet. For some samples Binary Thresholding might be ideal."
      ]
    },
    {
      "cell_type": "code",
      "execution_count": null,
      "metadata": {
        "id": "gX-JLJN88xjV"
      },
      "outputs": [],
      "source": [
        "## For now let's continue with the HSV color threshold for trying to identify where in the image the plant is.\n",
        "## Recall that the image is accepting much of the text and small artifacts around the border of the sheet.\n",
        "## We will attempt to remove that noise by using a filter.\n",
        "HSV_Threshold = cv2.medianBlur(HSV_Threshold, ksize=11)\n",
        "cv2_imshow(HSV_Threshold)"
      ]
    },
    {
      "cell_type": "code",
      "execution_count": null,
      "metadata": {
        "id": "IS4VCKjQEzwu"
      },
      "outputs": [],
      "source": [
        "## With a single filter we've managed to remove the text, but we've lost a lot of the detail in the edges of the plant\n",
        "## Luckily our new mask can be used to localize the plant on the image, and we can threshold again to get the detail back.\n",
        "\n",
        "# Taking a matrix of size 5 as the kernel\n",
        "kernel = np.ones((5,5), np.uint8)\n",
        "# Apply dilation to inital mask for border\n",
        "PlantMask = cv2.dilate(HSV_Threshold, kernel, iterations=2)\n",
        "cv2_imshow(PlantMask)"
      ]
    },
    {
      "cell_type": "code",
      "execution_count": null,
      "metadata": {
        "id": "KmDHRiN1GiKS"
      },
      "outputs": [],
      "source": [
        "## Re-Crop the initial image from mask\n",
        "PlantMask=cv2.cvtColor(PlantMask,cv2.COLOR_GRAY2BGR)#change mask to a 3 channel image\n",
        "PreProcess=cv2.subtract(PlantMask,img)\n",
        "PreProcess=cv2.subtract(PlantMask,PreProcess)\n",
        "cv2_imshow(PreProcess)"
      ]
    },
    {
      "cell_type": "code",
      "execution_count": null,
      "metadata": {
        "id": "9MshgoYuHxnk"
      },
      "outputs": [],
      "source": [
        "## Re thresholding we get the final segmentation mask\n",
        "## With HSV\n",
        "PreProcess_HSV = cv2.cvtColor(PreProcess, cv2.COLOR_BGR2HSV)\n",
        "HSV_Threshold = cv2.inRange(PreProcess_HSV, (0, 20, 50), (30, 150, 180)) ## HSV Range for approximatly the color of the plant\n",
        "cv2_imshow(HSV_Threshold)"
      ]
    },
    {
      "cell_type": "code",
      "execution_count": null,
      "metadata": {
        "id": "eE_4NUhFIEN9"
      },
      "outputs": [],
      "source": []
    }
  ],
  "metadata": {
    "colab": {
      "provenance": []
    },
    "kernelspec": {
      "display_name": "Python 3",
      "language": "python",
      "name": "python3"
    },
    "language_info": {
      "codemirror_mode": {
        "name": "ipython",
        "version": 3
      },
      "file_extension": ".py",
      "mimetype": "text/x-python",
      "name": "python",
      "nbconvert_exporter": "python",
      "pygments_lexer": "ipython3",
      "version": "3.7.6"
    },
    "vscode": {
      "interpreter": {
        "hash": "0a7c94ab19f1ddc6127e9bf52db15dded94c34ff00ece54f36e1ae9d3e264423"
      }
    }
  },
  "nbformat": 4,
  "nbformat_minor": 0
}